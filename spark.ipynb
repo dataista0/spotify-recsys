{
 "cells": [
  {
   "cell_type": "code",
   "execution_count": 34,
   "metadata": {
    "collapsed": true
   },
   "outputs": [],
   "source": [
    "import json\n",
    "import pandas as pd\n",
    "from pyspark.ml.recommendation import ALS\n",
    "from pyspark.sql.functions import lit\n",
    "from pyspark.sql.functions import lit, col\n",
    "from pyspark.sql.types import IntegerType\n",
    "\n",
    "TRAIN_FILE = 'data/full-interactions.csv'\n",
    "USER_COL = \"playlist\"\n",
    "ITEM_COL = \"track\"\n",
    "\n",
    "def load_ds():\n",
    "    ds = spark.read.csv(TRAIN_FILE, header=True, mode=\"DROPMALFORMED\")\n",
    "    ds = ds.withColumn(ITEM_COL, ds[ITEM_COL].cast(IntegerType()))\n",
    "    ds = ds.withColumn(USER_COL, ds[USER_COL].cast(IntegerType()))\n",
    "    ds = ds.withColumn(\"rating\", lit(1))\n",
    "    ds = ds.na.fill(-1).cache()\n",
    "    return ds"
   ]
  },
  {
   "cell_type": "code",
   "execution_count": 2,
   "metadata": {},
   "outputs": [],
   "source": [
    "ds = load_ds()"
   ]
  },
  {
   "cell_type": "code",
   "execution_count": 3,
   "metadata": {},
   "outputs": [
    {
     "name": "stdout",
     "output_type": "stream",
     "text": [
      "CPU times: user 162 ms, sys: 32.4 ms, total: 194 ms\n",
      "Wall time: 20min 2s\n"
     ]
    }
   ],
   "source": [
    "%%time\n",
    "als = ALS(rank=30, userCol=USER_COL, itemCol=ITEM_COL, ratingCol=\"rating\", implicitPrefs=True).fit(ds)"
   ]
  },
  {
   "cell_type": "code",
   "execution_count": 5,
   "metadata": {
    "collapsed": true
   },
   "outputs": [],
   "source": [
    "als.save(\"models/30-factors-als\")"
   ]
  },
  {
   "cell_type": "code",
   "execution_count": 8,
   "metadata": {},
   "outputs": [],
   "source": [
    "MAPPED_CHALLENGE_FILE = \"data/challenge_set_mapped.json\"\n",
    "REVERSED_TRACK_MAP_FILE = 'data/mpd/reduced/reversed_track_map.json'\n",
    "\n",
    "eval_playlists = json.load(open(MAPPED_CHALLENGE_FILE))"
   ]
  },
  {
   "cell_type": "code",
   "execution_count": 12,
   "metadata": {},
   "outputs": [
    {
     "data": {
      "text/plain": [
       "[9056, 2624, 1120, 1125, 2585]"
      ]
     },
     "execution_count": 12,
     "metadata": {},
     "output_type": "execute_result"
    }
   ],
   "source": []
  },
  {
   "cell_type": "code",
   "execution_count": 36,
   "metadata": {},
   "outputs": [],
   "source": [
    "tracks = spark.createDataFrame(pd.DataFrame(eval_playlists[1001]['tracks'], columns=[ITEM_COL]))\n",
    "tracks = tracks.withColumn(ITEM_COL, tracks[ITEM_COL].cast(IntegerType()))\n",
    "\n",
    "res = als.recommendForItemSubset(tracks, 10)"
   ]
  },
  {
   "cell_type": "code",
   "execution_count": 37,
   "metadata": {},
   "outputs": [
    {
     "name": "stdout",
     "output_type": "stream",
     "text": [
      "+-----+--------------------+\n",
      "|track|     recommendations|\n",
      "+-----+--------------------+\n",
      "| 1125|[[355618, 0.75653...|\n",
      "| 9056|[[193008, 0.69078...|\n",
      "| 2585|[[355618, 0.71151...|\n",
      "| 1120|[[293601, 0.84426...|\n",
      "| 2624|[[269486, 0.30876...|\n",
      "+-----+--------------------+\n",
      "\n"
     ]
    }
   ],
   "source": [
    "res.show()"
   ]
  },
  {
   "cell_type": "code",
   "execution_count": null,
   "metadata": {
    "collapsed": true
   },
   "outputs": [],
   "source": []
  }
 ],
 "metadata": {
  "kernelspec": {
   "display_name": "Python 3",
   "language": "python",
   "name": "python3"
  },
  "language_info": {
   "codemirror_mode": {
    "name": "ipython",
    "version": 3
   },
   "file_extension": ".py",
   "mimetype": "text/x-python",
   "name": "python",
   "nbconvert_exporter": "python",
   "pygments_lexer": "ipython3",
   "version": "3.6.3"
  }
 },
 "nbformat": 4,
 "nbformat_minor": 2
}
