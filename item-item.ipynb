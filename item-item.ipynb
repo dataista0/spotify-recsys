{
 "cells": [
  {
   "cell_type": "code",
   "execution_count": 1,
   "metadata": {},
   "outputs": [
    {
     "data": {
      "text/plain": [
       "{'album_name': 'Pulses',\n",
       " 'album_uri': 'spotify:album:2UvU0egYoXsysWkHqQy4Lc',\n",
       " 'artist_name': 'Karmin',\n",
       " 'artist_uri': 'spotify:artist:4M0DLz8te9Q1lNIXBBwvfG',\n",
       " 'duration_ms': 198906,\n",
       " 'pos': 0,\n",
       " 'track_name': 'Acapella',\n",
       " 'track_uri': 'spotify:track:6RjW45KHJ6kgI2xQ1aFa52'}"
      ]
     },
     "execution_count": 1,
     "metadata": {},
     "output_type": "execute_result"
    }
   ],
   "source": [
    "import json\n",
    "import pandas as pd\n",
    "\n",
    "def load_data(verbose=False):\n",
    "    data = json.load(open(\"data/ismpd.json\"))['playlists']\n",
    "    if verbose:\n",
    "        print(\"Playlists: {}\".format(len(data)))\n",
    "        print(data[0])\n",
    "    return data\n",
    "\n",
    "def load_challenge(verbose=False):\n",
    "    data = json.load(open(\"data/challenge_set.json\"))['playlists']\n",
    "    if verbose:\n",
    "        print(\"Playlists: {}\".format(len(data)))\n",
    "        print(data[0])\n",
    "    return data\n",
    "\n",
    "def get_track_uri_to_name_map(playlists=None):\n",
    "    if not playlists:\n",
    "        playlists = load_data()\n",
    "    res = {}\n",
    "    for playlist in playlists:\n",
    "        res.update({track['track_uri']:track['track_name'] for track in playlist['tracks']})\n",
    "    return res\n",
    "\n",
    "def get_playslist_track_uris(playlist):\n",
    "    return [track['track_uri'] for track in playlist['tracks']]\n",
    "\n",
    "def get_all_tracks_uris(playlists):\n",
    "    results = set()\n",
    "    for playlist in playlists:\n",
    "        for track_uri in get_playslist_track_uris(playlist):\n",
    "            results.add(track_uri)\n",
    "    return list(results)\n",
    "\n",
    "def get_playlists_for_track(track_uri, playslists):\n",
    "    return list(set([playlist['pid'] for playlist in playlists if track_uri in get_playslist_track_uris(playlist)]))\n",
    "    \n",
    "def item_item_sim_matrix(playlists=None):\n",
    "    if not playlists:\n",
    "        playlists = load_data()\n",
    "        \n",
    "    tracks = get_all_tracks_uris(playlists)\n",
    "    \n",
    "    print(\"Loading playlists by track...\", end=\"\\t\")\n",
    "    playlists_by_track = {t: get_playlists_for_track(t, playlists) for t in tracks}\n",
    "    print(\"Done\")\n",
    "    \n",
    "    print(\"Constructing similarity matrix...\")\n",
    "    similars = {}\n",
    "    for iteration, i in enumerate(tracks):\n",
    "        similars_to_i = []\n",
    "        pl1 = playlists_by_track[i]\n",
    "        for j in tracks:\n",
    "            pl2 = playlists_by_track[j]\n",
    "            s = len(set(pl1) & set(pl2)) / (len(pl1) * len(pl2))\n",
    "            if s > 0 and i != j:\n",
    "                similars_to_i.append((j, s))\n",
    "        similars[i] = sorted(similars_to_i, key=lambda x: x[1], reverse=True)\n",
    "        if iteration % 100 == 0:\n",
    "            print(\"\\t{} ==> {}\".format(iteration, len(similars_to_i)))\n",
    "    print(\"Done\")\n",
    "    \n",
    "    return similars\n",
    "\n",
    "def get_artists(playlists=None):\n",
    "    artists = set()\n",
    "    for p in playlists:\n",
    "        for t in p['tracks']:\n",
    "            artists.add(t['artist_name'])\n",
    "    return list(artists)\n",
    "\n",
    "def get_artist(track_uri, playlists):\n",
    "    for p in playlists:\n",
    "        for t in p['tracks']:\n",
    "            if t['track_uri'] == track_uri:\n",
    "                return t['artist_name']\n",
    "    return None\n",
    "\n",
    "def get_tracks_from_artist(artist_name, playlists):\n",
    "    tracks = set()\n",
    "    for p in playlists:\n",
    "        for t in p['tracks']:\n",
    "            if t['artist_name'] == artist_name:\n",
    "                tracks.add(t['track_uri'])\n",
    "    return list(tracks)\n",
    "\n",
    "def explore(m, i, n=10):\n",
    "    keys = list(m.keys())\n",
    "    ids_to_names = get_track_uri_to_name_map()    \n",
    "    track_uri = keys[i]\n",
    "    name = ids_to_names[track_uri]\n",
    "    names = [(uri, ids_to_names[uri]) for uri, s in m[track_uri][:n]]\n",
    "    print(\"Top {} sims for '{}' ({}):\".format(n, name, get_artist(track_uri, load_data())))\n",
    "    for uri, n in names:\n",
    "        print(\"\\t{} ({})\".format(n, get_artist(uri, load_data())))\n",
    "    \n",
    "\n",
    "\n",
    "playlists = load_data()\n",
    "playlists[0]['tracks'][0]"
   ]
  },
  {
   "cell_type": "code",
   "execution_count": null,
   "metadata": {},
   "outputs": [],
   "source": [
    "m = item_item_sim_matrix()"
   ]
  },
  {
   "cell_type": "code",
   "execution_count": null,
   "metadata": {},
   "outputs": [],
   "source": [
    "artists = get_artists(load_data())"
   ]
  },
  {
   "cell_type": "code",
   "execution_count": null,
   "metadata": {},
   "outputs": [],
   "source": [
    "michael_jackson_tracks = get_tracks_from_artist(\"Michael Jackson\", load_data())\n",
    "billie_jean_uri = 'spotify:track:5ChkMS8OtdzJeqyybCc9R5'"
   ]
  },
  {
   "cell_type": "code",
   "execution_count": null,
   "metadata": {},
   "outputs": [],
   "source": [
    "explore(m, keys.index(billie_jean_uri))"
   ]
  },
  {
   "cell_type": "code",
   "execution_count": null,
   "metadata": {},
   "outputs": [],
   "source": [
    "def get_similars_to_list(tracks_uris, item_item_matrix):\n",
    "    items = {}\n",
    "    for track_uri in tracks_uris:\n",
    "        for item, score in item_item_matrix[track_uri]:\n",
    "            if item in items:\n",
    "                items[item] += score\n",
    "            else:\n",
    "                items[item] = score\n",
    "    result = sorted(items.items(), key=lambda x: x[1], reverse=True)[:500]\n",
    "    return result"
   ]
  },
  {
   "cell_type": "code",
   "execution_count": null,
   "metadata": {},
   "outputs": [],
   "source": [
    "res = {}\n",
    "for playlist in load_challenge()[1000:1020]:\n",
    "    if playlist['num_samples'] > 0:\n",
    "        try:\n",
    "            uris = [track['track_uri'] for track in playlist['tracks']]\n",
    "            res[playlist['pid']] = get_similars_to_list(uris, m)\n",
    "        except:\n",
    "            print(\"exception\")\n",
    "            res[playlist['pid']] = []    \n",
    "    else:\n",
    "        res[playlist['pid']] = []"
   ]
  },
  {
   "cell_type": "code",
   "execution_count": null,
   "metadata": {},
   "outputs": [],
   "source": [
    "res"
   ]
  }
 ],
 "metadata": {
  "kernelspec": {
   "display_name": "Python 3",
   "language": "python",
   "name": "python3"
  },
  "language_info": {
   "codemirror_mode": {
    "name": "ipython",
    "version": 3
   },
   "file_extension": ".py",
   "mimetype": "text/x-python",
   "name": "python",
   "nbconvert_exporter": "python",
   "pygments_lexer": "ipython3",
   "version": "3.6.4"
  }
 },
 "nbformat": 4,
 "nbformat_minor": 2
}
